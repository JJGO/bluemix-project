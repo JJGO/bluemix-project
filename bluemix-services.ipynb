{
 "cells": [
  {
   "cell_type": "code",
   "execution_count": 1,
   "metadata": {
    "collapsed": true
   },
   "outputs": [],
   "source": [
    "%load_ext autoreload\n",
    "\n",
    "%autoreload 2"
   ]
  },
  {
   "cell_type": "code",
   "execution_count": 40,
   "metadata": {
    "collapsed": true
   },
   "outputs": [],
   "source": [
    "from IPython.display import Audio\n"
   ]
  },
  {
   "cell_type": "markdown",
   "metadata": {},
   "source": [
    "# Import Modules"
   ]
  },
  {
   "cell_type": "code",
   "execution_count": 3,
   "metadata": {
    "collapsed": true
   },
   "outputs": [],
   "source": [
    "from services import get_credentials, get_database, get_watson_service"
   ]
  },
  {
   "cell_type": "code",
   "execution_count": 94,
   "metadata": {
    "collapsed": true
   },
   "outputs": [],
   "source": [
    "vcap = get_credentials()"
   ]
  },
  {
   "cell_type": "code",
   "execution_count": 6,
   "metadata": {
    "collapsed": true
   },
   "outputs": [],
   "source": [
    "from watson_developer_cloud import LanguageTranslationV2, TextToSpeechV1, NaturalLanguageUnderstandingV1"
   ]
  },
  {
   "cell_type": "markdown",
   "metadata": {},
   "source": [
    "# Database"
   ]
  },
  {
   "cell_type": "code",
   "execution_count": 12,
   "metadata": {
    "collapsed": true
   },
   "outputs": [],
   "source": [
    "db, client = get_database(vcap, 'test')"
   ]
  },
  {
   "cell_type": "code",
   "execution_count": 14,
   "metadata": {},
   "outputs": [
    {
     "data": {
      "text/plain": [
       "{'_id': '453a7dd2a1b9a9f088ac30ca9948a0ce',\n",
       " '_rev': '1-3ff6cb90ca13159d9caa69e42917573c',\n",
       " 'name': 'Pedro'}"
      ]
     },
     "execution_count": 14,
     "metadata": {},
     "output_type": "execute_result"
    }
   ],
   "source": [
    "db.create_document({'name' : 'Manolo'})\n",
    "db.create_document({'name' : 'Pedro'})"
   ]
  },
  {
   "cell_type": "code",
   "execution_count": 15,
   "metadata": {},
   "outputs": [
    {
     "data": {
      "text/plain": [
       "['Pedro', 'Manolo']"
      ]
     },
     "execution_count": 15,
     "metadata": {},
     "output_type": "execute_result"
    }
   ],
   "source": [
    "list(map(lambda doc: doc['name'], db))"
   ]
  },
  {
   "cell_type": "code",
   "execution_count": 16,
   "metadata": {
    "collapsed": true
   },
   "outputs": [],
   "source": [
    "db.delete()"
   ]
  },
  {
   "cell_type": "markdown",
   "metadata": {},
   "source": [
    "# Translator"
   ]
  },
  {
   "cell_type": "code",
   "execution_count": 121,
   "metadata": {},
   "outputs": [],
   "source": [
    "translator = get_watson_service(vcap, 'language_translator')"
   ]
  },
  {
   "cell_type": "code",
   "execution_count": 122,
   "metadata": {},
   "outputs": [
    {
     "data": {
      "text/plain": [
       "{'languages': [{'language': 'af', 'name': 'Afrikaans'},\n",
       "  {'language': 'ar', 'name': 'Arabic'},\n",
       "  {'language': 'az', 'name': 'Azerbaijani'},\n",
       "  {'language': 'ba', 'name': 'Bashkir'},\n",
       "  {'language': 'be', 'name': 'Belarusian'},\n",
       "  {'language': 'bg', 'name': 'Bulgarian'},\n",
       "  {'language': 'bn', 'name': 'Bengali'},\n",
       "  {'language': 'bs', 'name': 'Bosnian'},\n",
       "  {'language': 'cs', 'name': 'Czech'},\n",
       "  {'language': 'cv', 'name': 'Chuvash'},\n",
       "  {'language': 'da', 'name': 'Danish'},\n",
       "  {'language': 'de', 'name': 'German'},\n",
       "  {'language': 'el', 'name': 'Greek'},\n",
       "  {'language': 'en', 'name': 'English'},\n",
       "  {'language': 'eo', 'name': 'Esperanto'},\n",
       "  {'language': 'es', 'name': 'Spanish'},\n",
       "  {'language': 'et', 'name': 'Estonian'},\n",
       "  {'language': 'eu', 'name': 'Basque'},\n",
       "  {'language': 'fa', 'name': 'Persian'},\n",
       "  {'language': 'fi', 'name': 'Finnish'},\n",
       "  {'language': 'fr', 'name': 'French'},\n",
       "  {'language': 'gu', 'name': 'Gujarati'},\n",
       "  {'language': 'he', 'name': 'Hebrew'},\n",
       "  {'language': 'hi', 'name': 'Hindi'},\n",
       "  {'language': 'ht', 'name': 'Haitian'},\n",
       "  {'language': 'hu', 'name': 'Hungarian'},\n",
       "  {'language': 'hy', 'name': 'Armenian'},\n",
       "  {'language': 'id', 'name': 'Indonesian'},\n",
       "  {'language': 'is', 'name': 'Icelandic'},\n",
       "  {'language': 'it', 'name': 'Italian'},\n",
       "  {'language': 'ja', 'name': 'Japanese'},\n",
       "  {'language': 'ka', 'name': 'Georgian'},\n",
       "  {'language': 'kk', 'name': 'Kazakh'},\n",
       "  {'language': 'km', 'name': 'Central Khmer'},\n",
       "  {'language': 'ko', 'name': 'Korean'},\n",
       "  {'language': 'ku', 'name': 'Kurdish'},\n",
       "  {'language': 'ky', 'name': 'Kirghiz'},\n",
       "  {'language': 'lt', 'name': 'Lithuanian'},\n",
       "  {'language': 'lv', 'name': 'Latvian'},\n",
       "  {'language': 'ml', 'name': 'Malayalam'},\n",
       "  {'language': 'mn', 'name': 'Mongolian'},\n",
       "  {'language': 'nb', 'name': 'Norwegian Bokmal'},\n",
       "  {'language': 'nl', 'name': 'Dutch'},\n",
       "  {'language': 'nn', 'name': 'Norwegian Nynorsk'},\n",
       "  {'language': 'pa', 'name': 'Panjabi'},\n",
       "  {'language': 'pl', 'name': 'Polish'},\n",
       "  {'language': 'ps', 'name': 'Pushto'},\n",
       "  {'language': 'pt', 'name': 'Portuguese'},\n",
       "  {'language': 'ro', 'name': 'Romanian'},\n",
       "  {'language': 'ru', 'name': 'Russian'},\n",
       "  {'language': 'sk', 'name': 'Slovakian'},\n",
       "  {'language': 'so', 'name': 'Somali'},\n",
       "  {'language': 'sq', 'name': 'Albanian'},\n",
       "  {'language': 'sv', 'name': 'Swedish'},\n",
       "  {'language': 'ta', 'name': 'Tamil'},\n",
       "  {'language': 'te', 'name': 'Telugu'},\n",
       "  {'language': 'tr', 'name': 'Turkish'},\n",
       "  {'language': 'uk', 'name': 'Ukrainian'},\n",
       "  {'language': 'ur', 'name': 'Urdu'},\n",
       "  {'language': 'vi', 'name': 'Vietnamese'},\n",
       "  {'language': 'zh', 'name': 'Chinese'},\n",
       "  {'language': 'zh-TW', 'name': 'Traditional Chinese'}]}"
      ]
     },
     "execution_count": 122,
     "metadata": {},
     "output_type": "execute_result"
    }
   ],
   "source": [
    "translator.get_identifiable_languages()"
   ]
  },
  {
   "cell_type": "code",
   "execution_count": 33,
   "metadata": {},
   "outputs": [
    {
     "data": {
      "text/plain": [
       "{'confidence': 0.997267, 'language': 'fr'}"
      ]
     },
     "execution_count": 33,
     "metadata": {},
     "output_type": "execute_result"
    }
   ],
   "source": [
    "translator.identify('Je ne sais pas francais')['languages'][0]"
   ]
  },
  {
   "cell_type": "code",
   "execution_count": 34,
   "metadata": {},
   "outputs": [
    {
     "data": {
      "text/plain": [
       "'とても幸せ '"
      ]
     },
     "execution_count": 34,
     "metadata": {},
     "output_type": "execute_result"
    }
   ],
   "source": [
    "s = translator.translate('I am very happy', source='en', target='ja')\n",
    "s"
   ]
  },
  {
   "cell_type": "code",
   "execution_count": 35,
   "metadata": {},
   "outputs": [
    {
     "data": {
      "text/plain": [
       "'I am very happy '"
      ]
     },
     "execution_count": 35,
     "metadata": {},
     "output_type": "execute_result"
    }
   ],
   "source": [
    "translator.translate(s, source='ja', target='en')"
   ]
  },
  {
   "cell_type": "code",
   "execution_count": 36,
   "metadata": {},
   "outputs": [
    {
     "data": {
      "text/plain": [
       "'Estoy en la cima del mundo '"
      ]
     },
     "execution_count": 36,
     "metadata": {},
     "output_type": "execute_result"
    }
   ],
   "source": [
    "s = translator.translate('I am on top of the world', model_id='en-es-conversational')\n",
    "s"
   ]
  },
  {
   "cell_type": "code",
   "execution_count": 37,
   "metadata": {},
   "outputs": [
    {
     "data": {
      "text/plain": [
       "\"I'm on top of the world \""
      ]
     },
     "execution_count": 37,
     "metadata": {},
     "output_type": "execute_result"
    }
   ],
   "source": [
    "translator.translate(s, model_id='es-en-conversational')"
   ]
  },
  {
   "cell_type": "markdown",
   "metadata": {},
   "source": [
    "# Text to Speech"
   ]
  },
  {
   "cell_type": "code",
   "execution_count": 38,
   "metadata": {
    "collapsed": true
   },
   "outputs": [],
   "source": [
    "text_to_speech = get_watson_service(vcap, 'text_to_speech')"
   ]
  },
  {
   "cell_type": "code",
   "execution_count": 66,
   "metadata": {
    "collapsed": true
   },
   "outputs": [],
   "source": [
    "audioEN = text_to_speech.synthesize('Hello world!', accept='audio/ogg',\n",
    "voice=\"en-GB_KateVoice\")"
   ]
  },
  {
   "cell_type": "code",
   "execution_count": 67,
   "metadata": {},
   "outputs": [
    {
     "data": {
      "text/html": [
       "\n",
       "                <audio controls=\"controls\" >\n",
       "                    <source src=\"data:audio/wav;base64,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\" type=\"audio/wav\" />\n",
       "                    Your browser does not support the audio element.\n",
       "                </audio>\n",
       "              "
      ],
      "text/plain": [
       "<IPython.lib.display.Audio object>"
      ]
     },
     "execution_count": 67,
     "metadata": {},
     "output_type": "execute_result"
    }
   ],
   "source": [
    "Audio(audioEN)"
   ]
  },
  {
   "cell_type": "code",
   "execution_count": 68,
   "metadata": {},
   "outputs": [
    {
     "data": {
      "text/plain": [
       "['es-LA_SofiaVoice',\n",
       " 'pt-BR_IsabelaVoice',\n",
       " 'ja-JP_EmiVoice',\n",
       " 'en-US_AllisonVoice',\n",
       " 'fr-FR_ReneeVoice',\n",
       " 'it-IT_FrancescaVoice',\n",
       " 'es-ES_LauraVoice',\n",
       " 'de-DE_BirgitVoice',\n",
       " 'es-ES_EnriqueVoice',\n",
       " 'de-DE_DieterVoice',\n",
       " 'en-US_LisaVoice',\n",
       " 'en-GB_KateVoice',\n",
       " 'en-US_MichaelVoice',\n",
       " 'es-US_SofiaVoice']"
      ]
     },
     "execution_count": 68,
     "metadata": {},
     "output_type": "execute_result"
    }
   ],
   "source": [
    "[x['name'] for x in text_to_speech.voices()['voices']]"
   ]
  },
  {
   "cell_type": "code",
   "execution_count": 69,
   "metadata": {
    "collapsed": true
   },
   "outputs": [],
   "source": [
    "audioES = text_to_speech.synthesize('Hola Mundo', accept='audio/ogg',\n",
    "voice=\"es-ES_LauraVoice\")"
   ]
  },
  {
   "cell_type": "code",
   "execution_count": 70,
   "metadata": {},
   "outputs": [
    {
     "data": {
      "text/html": [
       "\n",
       "                <audio controls=\"controls\" >\n",
       "                    <source src=\"data:audio/wav;base64,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\" type=\"audio/wav\" />\n",
       "                    Your browser does not support the audio element.\n",
       "                </audio>\n",
       "              "
      ],
      "text/plain": [
       "<IPython.lib.display.Audio object>"
      ]
     },
     "execution_count": 70,
     "metadata": {},
     "output_type": "execute_result"
    }
   ],
   "source": [
    "Audio(audioES)"
   ]
  },
  {
   "cell_type": "markdown",
   "metadata": {},
   "source": [
    "# Speech to Text"
   ]
  },
  {
   "cell_type": "code",
   "execution_count": 65,
   "metadata": {
    "collapsed": true
   },
   "outputs": [],
   "source": [
    "speech_to_text = get_watson_service(vcap, 'speech_to_text')"
   ]
  },
  {
   "cell_type": "code",
   "execution_count": 72,
   "metadata": {},
   "outputs": [
    {
     "data": {
      "text/plain": [
       "{'result_index': 0,\n",
       " 'results': [{'alternatives': [{'confidence': 0.996,\n",
       "     'transcript': 'hello world '}],\n",
       "   'final': True}]}"
      ]
     },
     "execution_count": 72,
     "metadata": {},
     "output_type": "execute_result"
    }
   ],
   "source": [
    "speech_to_text.recognize(\n",
    "        audioEN, content_type='audio/ogg')"
   ]
  },
  {
   "cell_type": "code",
   "execution_count": 73,
   "metadata": {},
   "outputs": [
    {
     "data": {
      "text/plain": [
       "{'result_index': 0,\n",
       " 'results': [{'alternatives': [{'confidence': 0.996,\n",
       "     'timestamps': [['hello', 0.04, 0.31], ['world', 0.31, 0.85]],\n",
       "     'transcript': 'hello world ',\n",
       "     'word_confidence': [['hello', 1.0], ['world', 0.994]]}],\n",
       "   'final': True}]}"
      ]
     },
     "execution_count": 73,
     "metadata": {},
     "output_type": "execute_result"
    }
   ],
   "source": [
    "speech_to_text.recognize(\n",
    "        audioEN, content_type='audio/ogg', timestamps=True,\n",
    "        word_confidence=True)"
   ]
  },
  {
   "cell_type": "code",
   "execution_count": 78,
   "metadata": {},
   "outputs": [
    {
     "data": {
      "text/plain": [
       "[('fr-FR', 'fr-FR_BroadbandModel'),\n",
       " ('en-US', 'en-US_NarrowbandModel'),\n",
       " ('pt-BR', 'pt-BR_BroadbandModel'),\n",
       " ('en-UK', 'en-UK_BroadbandModel'),\n",
       " ('zh-CN', 'zh-CN_BroadbandModel'),\n",
       " ('ja-JP', 'ja-JP_BroadbandModel'),\n",
       " ('pt-BR', 'pt-BR_NarrowbandModel'),\n",
       " ('es-ES', 'es-ES_BroadbandModel'),\n",
       " ('ar-AR', 'ar-AR_BroadbandModel'),\n",
       " ('zh-CN', 'zh-CN_NarrowbandModel'),\n",
       " ('ja-JP', 'ja-JP_NarrowbandModel'),\n",
       " ('es-ES', 'es-ES_NarrowbandModel'),\n",
       " ('en-UK', 'en-UK_NarrowbandModel'),\n",
       " ('en-US', 'en-US_BroadbandModel')]"
      ]
     },
     "execution_count": 78,
     "metadata": {},
     "output_type": "execute_result"
    }
   ],
   "source": [
    "[(x['language'], x['name']) for x in speech_to_text.models()['models'] ]"
   ]
  },
  {
   "cell_type": "code",
   "execution_count": 123,
   "metadata": {},
   "outputs": [
    {
     "data": {
      "text/plain": [
       "{'result_index': 0,\n",
       " 'results': [{'alternatives': [{'confidence': 0.998,\n",
       "     'timestamps': [['hola', 0.03, 0.33], ['mundo', 0.33, 0.8]],\n",
       "     'transcript': 'hola mundo ',\n",
       "     'word_confidence': [['hola', 1.0], ['mundo', 0.996]]}],\n",
       "   'final': True}]}"
      ]
     },
     "execution_count": 123,
     "metadata": {},
     "output_type": "execute_result"
    }
   ],
   "source": [
    "speech_to_text.recognize(\n",
    "        audioES, content_type='audio/ogg', model='es-ES_BroadbandModel', timestamps=True,\n",
    "        word_confidence=True, )"
   ]
  },
  {
   "cell_type": "markdown",
   "metadata": {},
   "source": [
    "# Natural Language Understanding"
   ]
  },
  {
   "cell_type": "code",
   "execution_count": 127,
   "metadata": {
    "collapsed": true
   },
   "outputs": [],
   "source": [
    "import watson_developer_cloud.natural_language_understanding.features.v1 as features\n"
   ]
  },
  {
   "cell_type": "code",
   "execution_count": 128,
   "metadata": {},
   "outputs": [],
   "source": [
    "nlu = get_watson_service(vcap, 'natural-language-understanding')"
   ]
  },
  {
   "cell_type": "code",
   "execution_count": 130,
   "metadata": {},
   "outputs": [
    {
     "data": {
      "text/plain": [
       "{'entities': [{'count': 3,\n",
       "   'relevance': 0.915411,\n",
       "   'text': 'Bruce Banner',\n",
       "   'type': 'Person'},\n",
       "  {'count': 1, 'relevance': 0.296395, 'text': 'Wayne', 'type': 'Person'}],\n",
       " 'keywords': [{'relevance': 0.984789, 'text': 'Bruce Banner'},\n",
       "  {'relevance': 0.958833, 'text': 'Bruce Wayne'},\n",
       "  {'relevance': 0.853322, 'text': 'experimental text'},\n",
       "  {'relevance': 0.627454, 'text': 'Hulk'},\n",
       "  {'relevance': 0.619956, 'text': 'Superman'},\n",
       "  {'relevance': 0.583188, 'text': 'BATMAN'}],\n",
       " 'language': 'en'}"
      ]
     },
     "execution_count": 130,
     "metadata": {},
     "output_type": "execute_result"
    }
   ],
   "source": [
    "nlu.analyze(text='this is my experimental text.  Bruce Banner is the Hulk and Bruce Wayne is BATMAN! Superman fears not Banner, but Wayne.',\n",
    "            features=[features.Entities(), features.Keywords()])"
   ]
  },
  {
   "cell_type": "code",
   "execution_count": 137,
   "metadata": {},
   "outputs": [
    {
     "data": {
      "text/plain": [
       "{'emotion': {'document': {'emotion': {'anger': 0.0,\n",
       "    'disgust': 0.0,\n",
       "    'fear': 0.0,\n",
       "    'joy': 0.9,\n",
       "    'sadness': 0.0}}},\n",
       " 'language': 'en',\n",
       " 'sentiment': {'document': {'label': 'positive', 'score': 0.839255}}}"
      ]
     },
     "execution_count": 137,
     "metadata": {},
     "output_type": "execute_result"
    }
   ],
   "source": [
    "nlu.analyze(text='I love you', features=[features.Emotion(), features.Sentiment()], language='en')"
   ]
  },
  {
   "cell_type": "code",
   "execution_count": 142,
   "metadata": {},
   "outputs": [
    {
     "data": {
      "text/plain": [
       "{'entities': [{'count': 1,\n",
       "   'relevance': 0.963296,\n",
       "   'text': 'Lucia',\n",
       "   'type': 'Person'},\n",
       "  {'count': 1, 'relevance': 0.247607, 'text': 'Margarita', 'type': 'Person'}],\n",
       " 'language': 'es',\n",
       " 'sentiment': {'document': {'label': 'negative', 'score': -0.924307}}}"
      ]
     },
     "execution_count": 142,
     "metadata": {},
     "output_type": "execute_result"
    }
   ],
   "source": [
    "nlu.analyze(text='Lucia odia a Margarita', features=[features.Entities(), features.Sentiment()], language='es')"
   ]
  },
  {
   "cell_type": "code",
   "execution_count": 146,
   "metadata": {},
   "outputs": [
    {
     "data": {
      "text/plain": [
       "{'concepts': [{'dbpedia_resource': 'http://dbpedia.org/resource/Medicine',\n",
       "   'relevance': 0.943962,\n",
       "   'text': 'Medicine'},\n",
       "  {'dbpedia_resource': 'http://dbpedia.org/resource/Ferret',\n",
       "   'relevance': 0.90459,\n",
       "   'text': 'Ferret'},\n",
       "  {'dbpedia_resource': 'http://dbpedia.org/resource/Mustelidae',\n",
       "   'relevance': 0.833048,\n",
       "   'text': 'Mustelidae'},\n",
       "  {'dbpedia_resource': 'http://dbpedia.org/resource/Health_care',\n",
       "   'relevance': 0.750068,\n",
       "   'text': 'Health care'},\n",
       "  {'dbpedia_resource': 'http://dbpedia.org/resource/Illness',\n",
       "   'relevance': 0.678776,\n",
       "   'text': 'Illness'},\n",
       "  {'dbpedia_resource': 'http://dbpedia.org/resource/Carnivora',\n",
       "   'relevance': 0.669715,\n",
       "   'text': 'Carnivora'},\n",
       "  {'dbpedia_resource': 'http://dbpedia.org/resource/Bird',\n",
       "   'relevance': 0.611337,\n",
       "   'text': 'Bird'},\n",
       "  {'dbpedia_resource': 'http://dbpedia.org/resource/Pharmaceutical_drug',\n",
       "   'relevance': 0.610033,\n",
       "   'text': 'Pharmaceutical drug'}],\n",
       " 'emotion': {'document': {'emotion': {'anger': 0.12589,\n",
       "    'disgust': 0.120863,\n",
       "    'fear': 0.136424,\n",
       "    'joy': 0.613796,\n",
       "    'sadness': 0.589325}}},\n",
       " 'entities': [{'count': 2,\n",
       "   'disambiguation': {'dbpedia_resource': 'http://dbpedia.org/resource/Skin_infection',\n",
       "    'name': 'Skin infection',\n",
       "    'subtype': []},\n",
       "   'relevance': 0.912955,\n",
       "   'text': 'skin infection',\n",
       "   'type': 'HealthCondition'},\n",
       "  {'count': 1, 'relevance': 0.583707, 'text': 'Mink', 'type': 'Person'},\n",
       "  {'count': 1,\n",
       "   'relevance': 0.576345,\n",
       "   'text': 'General Manager',\n",
       "   'type': 'JobTitle'},\n",
       "  {'count': 1, 'relevance': 0.576345, 'text': 'One day', 'type': 'Quantity'}],\n",
       " 'keywords': [{'relevance': 0.938985, 'text': 'Wellness Room'},\n",
       "  {'relevance': 0.785899, 'text': 'little female ferret'},\n",
       "  {'relevance': 0.759898, 'text': 'sales floor'},\n",
       "  {'relevance': 0.665783, 'text': 'Gizmo home'},\n",
       "  {'relevance': 0.644266, 'text': 'special attention'},\n",
       "  {'relevance': 0.643426, 'text': 'medical care'},\n",
       "  {'relevance': 0.636675, 'text': 'Cats meow'},\n",
       "  {'relevance': 0.629607, 'text': 'chicken clucking'},\n",
       "  {'relevance': 0.621038, 'text': 'daily visits'},\n",
       "  {'relevance': 0.618607, 'text': 'General Manager'},\n",
       "  {'relevance': 0.616606, 'text': 'oral medications'},\n",
       "  {'relevance': 0.616594, 'text': 'skin infection'},\n",
       "  {'relevance': 0.589167, 'text': 'ferrets'},\n",
       "  {'relevance': 0.580846, 'text': 'ladies room'},\n",
       "  {'relevance': 0.467606, 'text': 'Petco'},\n",
       "  {'relevance': 0.45231, 'text': 'multiples'},\n",
       "  {'relevance': 0.452062, 'text': 'Gremlin'},\n",
       "  {'relevance': 0.451798, 'text': 'behold'},\n",
       "  {'relevance': 0.449356, 'text': 'Mink'},\n",
       "  {'relevance': 0.447822, 'text': 'animals'},\n",
       "  {'relevance': 0.447711, 'text': 'type'},\n",
       "  {'relevance': 0.447679, 'text': 'issue'},\n",
       "  {'relevance': 0.447345, 'text': 'enthusiasm'},\n",
       "  {'relevance': 0.447268, 'text': 'Dogs'},\n",
       "  {'relevance': 0.446953, 'text': 'Birds'},\n",
       "  {'relevance': 0.446447, 'text': 'pairs'},\n",
       "  {'relevance': 0.444282, 'text': 'talk.'},\n",
       "  {'relevance': 0.442427, 'text': 'point'},\n",
       "  {'relevance': 0.440964, 'text': 'family'}],\n",
       " 'language': 'en',\n",
       " 'relations': [{'arguments': [{'entities': [{'text': 'General Manager',\n",
       "       'type': 'Person'}],\n",
       "     'text': 'General Manager'},\n",
       "    {'entities': [{'text': 'talking', 'type': 'EventMeeting'}],\n",
       "     'text': 'talking'}],\n",
       "   'score': 0.735591,\n",
       "   'sentence': 'In talking with the General Manager, we decided that the ferret was lonely, so I made it a point to go visit him in the Wellness Room whenever possible.',\n",
       "   'type': 'participantIn'},\n",
       "  {'arguments': [{'entities': [{'text': 'herself', 'type': 'Person'}],\n",
       "     'text': 'me'},\n",
       "    {'entities': [{'text': 'Gizmo', 'type': 'GeopoliticalEntity'}],\n",
       "     'text': 'Gizmo'}],\n",
       "   'score': 0.802773,\n",
       "   'sentence': 'So, I bought him and named him Gizmo since his dooking reminded me of Gizmo the Gremlin.',\n",
       "   'type': 'residesIn'},\n",
       "  {'arguments': [{'entities': [{'text': 'Gizmo',\n",
       "       'type': 'GeopoliticalEntity'}],\n",
       "     'text': 'Gizmo'},\n",
       "    {'entities': [{'text': 'Gremlin', 'type': 'GeopoliticalEntity'}],\n",
       "     'text': 'Gremlin'}],\n",
       "   'score': 0.79441,\n",
       "   'sentence': 'So, I bought him and named him Gizmo since his dooking reminded me of Gizmo the Gremlin.',\n",
       "   'type': 'locatedAt'},\n",
       "  {'arguments': [{'entities': [{'text': 'herself', 'type': 'Person'}],\n",
       "     'text': 'I'},\n",
       "    {'entities': [{'text': 'home', 'type': 'Facility'}], 'text': 'home'}],\n",
       "   'score': 0.362787,\n",
       "   'sentence': \"As I was getting ready to take Gizmo home, I happened to walk past the habitat on the sales floor (I'm sure I was just heading to the ladies room, yeah, that's it).\",\n",
       "   'type': 'locatedAt'},\n",
       "  {'arguments': [{'entities': [{'text': 'home', 'type': 'Facility'}],\n",
       "     'text': 'home'},\n",
       "    {'entities': [{'text': 'Gizmo', 'type': 'GeopoliticalEntity'}],\n",
       "     'text': 'Gizmo'}],\n",
       "   'score': 0.951987,\n",
       "   'sentence': \"As I was getting ready to take Gizmo home, I happened to walk past the habitat on the sales floor (I'm sure I was just heading to the ladies room, yeah, that's it).\",\n",
       "   'type': 'locatedAt'}],\n",
       " 'sentiment': {'document': {'label': 'positive', 'score': 0.321502}}}"
      ]
     },
     "execution_count": 146,
     "metadata": {},
     "output_type": "execute_result"
    }
   ],
   "source": [
    "text='One day, there was a ferret in the Wellness Room (at Petco, the Wellness Room is where animals who are ill or having any type of issue are kept in order to receive special attention and any medical care needed.) He was by himself and he dooked, a lot. “Dooking” is how ferrets “talk.” Cats meow. Dogs bark. Birds chirp. Ferrets dook. It almost sounds like a chicken clucking. In talking with the General Manager, we decided that the ferret was lonely, so I made it a point to go visit him in the Wellness Room whenever possible. This ferret had a skin infection and was receiving oral medications to help clear up the infection. Well, the day finally came when he finished all of his medication and was ready to join the others on the sales floor. However, I couldn’t give him up; we had bonded during our daily visits. I’d grown accustomed to him being there in the Wellness Room, waiting for me each morning; greeting me with enthusiasm that grew each day he got better. So, I bought him and named him Gizmo since his dooking reminded me of Gizmo the Gremlin. As I was getting ready to take Gizmo home, I happened to walk past the habitat on the sales floor (I’m sure I was just heading to the ladies room, yeah, that’s it). Well, low and behold, there was a single, little female ferret all by her lonesome. How could I pack up Gizmo and just walk past her and leave her by herself? Especially knowing that ferrets do better in pairs or multiples, especially when raised together or introduced correctly. Welcome Mink to the family.'\n",
    "\n",
    "nlu.analyze(text=text, features=[features.Entities(), features.Keywords(), features.Sentiment(), \n",
    "                                 features.Emotion(), features.Relations(), features.Concepts()])"
   ]
  },
  {
   "cell_type": "markdown",
   "metadata": {},
   "source": [
    "# Visual Recognition"
   ]
  },
  {
   "cell_type": "code",
   "execution_count": 119,
   "metadata": {
    "collapsed": true
   },
   "outputs": [],
   "source": [
    "from watson_developer_cloud import VisualRecognitionV3"
   ]
  },
  {
   "cell_type": "code",
   "execution_count": 120,
   "metadata": {},
   "outputs": [],
   "source": [
    "visual_recognition = get_watson_service(vcap, 'watson_vision_combined')"
   ]
  },
  {
   "cell_type": "code",
   "execution_count": 106,
   "metadata": {},
   "outputs": [
    {
     "data": {
      "text/plain": [
       "{'custom_classes': 0,\n",
       " 'images': [{'classifiers': [{'classes': [{'class': 'plush (fabric for toys)',\n",
       "       'score': 0.791},\n",
       "      {'class': 'fabric', 'score': 0.791},\n",
       "      {'class': 'false face',\n",
       "       'score': 0.568,\n",
       "       'type_hierarchy': '/mask/false face'},\n",
       "      {'class': 'mask', 'score': 0.589},\n",
       "      {'class': 'piggy bank', 'score': 0.53},\n",
       "      {'class': 'lemon yellow color', 'score': 0.922},\n",
       "      {'class': 'pale yellow color', 'score': 0.892}],\n",
       "     'classifier_id': 'default',\n",
       "     'name': 'default'}],\n",
       "   'resolved_url': 'http://cdn.bulbagarden.net/upload/thumb/0/0d/025Pikachu.png/250px-025Pikachu.png',\n",
       "   'source_url': 'http://cdn.bulbagarden.net/upload/thumb/0/0d/025Pikachu.png/250px-025Pikachu.png'}],\n",
       " 'images_processed': 1}"
      ]
     },
     "execution_count": 106,
     "metadata": {},
     "output_type": "execute_result"
    }
   ],
   "source": [
    "url = \"http://weknowyourdreams.com/images/volcano/volcano-05.jpg\"\n",
    "visual_recognition.classify(images_url=url)"
   ]
  },
  {
   "cell_type": "code",
   "execution_count": 108,
   "metadata": {},
   "outputs": [
    {
     "data": {
      "text/plain": [
       "{'images': [{'resolved_url': 'http://creator.keepcalmandcarryon.com/kcp-preview/NQOxtJXW',\n",
       "   'source_url': 'http://creator.keepcalmandcarryon.com/kcp-preview/NQOxtJXW',\n",
       "   'text': 'keep\\ncalm\\nand\\ncarry\\non',\n",
       "   'words': [{'line_number': 0,\n",
       "     'location': {'height': 41, 'left': 69, 'top': 109, 'width': 132},\n",
       "     'score': 0.9887,\n",
       "     'word': 'keep'},\n",
       "    {'line_number': 1,\n",
       "     'location': {'height': 42, 'left': 54, 'top': 164, 'width': 160},\n",
       "     'score': 0.9679,\n",
       "     'word': 'calm'},\n",
       "    {'line_number': 2,\n",
       "     'location': {'height': 17, 'left': 110, 'top': 220, 'width': 50},\n",
       "     'score': 0.9712,\n",
       "     'word': 'and'},\n",
       "    {'line_number': 3,\n",
       "     'location': {'height': 82, 'left': 34, 'top': 231, 'width': 201},\n",
       "     'score': 0.5648,\n",
       "     'word': 'carry'},\n",
       "    {'line_number': 4,\n",
       "     'location': {'height': 49, 'left': 90, 'top': 305, 'width': 89},\n",
       "     'score': 0.6411,\n",
       "     'word': 'on'}]}],\n",
       " 'images_processed': 1}"
      ]
     },
     "execution_count": 108,
     "metadata": {},
     "output_type": "execute_result"
    }
   ],
   "source": [
    "url=\"http://creator.keepcalmandcarryon.com/kcp-preview/NQOxtJXW\"\n",
    "visual_recognition.recognize_text(images_url=url)"
   ]
  },
  {
   "cell_type": "code",
   "execution_count": 111,
   "metadata": {},
   "outputs": [
    {
     "data": {
      "text/plain": [
       "{'images': [{'faces': [{'age': {'max': 24, 'min': 18, 'score': 0.502411},\n",
       "     'face_location': {'height': 203, 'left': 130, 'top': 104, 'width': 165},\n",
       "     'gender': {'gender': 'FEMALE', 'score': 0.989013}}],\n",
       "   'resolved_url': 'https://fthmb.tqn.com/TbYcG1ZT3HMQNs2APucg94XyunE=/400x0/filters:no_upscale()/about/overlyattached-5900fa4a3df78c54563e3d8b.jpg',\n",
       "   'source_url': 'https://fthmb.tqn.com/TbYcG1ZT3HMQNs2APucg94XyunE=/400x0/filters:no_upscale()/about/overlyattached-5900fa4a3df78c54563e3d8b.jpg'}],\n",
       " 'images_processed': 1}"
      ]
     },
     "execution_count": 111,
     "metadata": {},
     "output_type": "execute_result"
    }
   ],
   "source": [
    "url = \"https://fthmb.tqn.com/TbYcG1ZT3HMQNs2APucg94XyunE=/400x0/filters:no_upscale()/about/overlyattached-5900fa4a3df78c54563e3d8b.jpg\"\n",
    "visual_recognition.detect_faces(images_url=url)"
   ]
  }
 ],
 "metadata": {
  "kernelspec": {
   "display_name": "Python 3",
   "language": "python",
   "name": "python3"
  },
  "language_info": {
   "codemirror_mode": {
    "name": "ipython",
    "version": 3
   },
   "file_extension": ".py",
   "mimetype": "text/x-python",
   "name": "python",
   "nbconvert_exporter": "python",
   "pygments_lexer": "ipython3",
   "version": "3.5.0"
  }
 },
 "nbformat": 4,
 "nbformat_minor": 2
}
